{
 "cells": [
  {
   "cell_type": "code",
   "execution_count": 1,
   "id": "2e263481",
   "metadata": {},
   "outputs": [],
   "source": [
    "# Import the random module\n",
    "import random"
   ]
  },
  {
   "cell_type": "code",
   "execution_count": 2,
   "id": "d9207e61",
   "metadata": {},
   "outputs": [
    {
     "data": {
      "text/plain": [
       "-27"
      ]
     },
     "execution_count": 2,
     "metadata": {},
     "output_type": "execute_result"
    }
   ],
   "source": [
    "random.randint(-90, 90)"
   ]
  },
  {
   "cell_type": "code",
   "execution_count": 3,
   "id": "557f3ea1",
   "metadata": {},
   "outputs": [
    {
     "data": {
      "text/plain": [
       "0.9060815066964574"
      ]
     },
     "execution_count": 3,
     "metadata": {},
     "output_type": "execute_result"
    }
   ],
   "source": [
    "random.random()"
   ]
  },
  {
   "cell_type": "code",
   "execution_count": 4,
   "id": "93ed0fae",
   "metadata": {},
   "outputs": [
    {
     "data": {
      "text/plain": [
       "[-14.041018318348893,\n",
       " 36.37317190001766,\n",
       " -7.121549103083843,\n",
       " -38.46721773828395,\n",
       " 18.236462685197523,\n",
       " -65.72282721260581,\n",
       " -78.38057213482307,\n",
       " -54.28811641474098,\n",
       " -40.99544484848461,\n",
       " -49.67971783776234]"
      ]
     },
     "execution_count": 4,
     "metadata": {},
     "output_type": "execute_result"
    }
   ],
   "source": [
    "x=1\n",
    "latitudes = []\n",
    "\n",
    "while x < 11:\n",
    "    random_lat = random.randint(-90,89) + random.random()\n",
    "    latitudes.append(random_lat)\n",
    "    x+=1\n",
    "\n",
    "latitudes"
   ]
  },
  {
   "cell_type": "code",
   "execution_count": 5,
   "id": "53706898",
   "metadata": {},
   "outputs": [],
   "source": [
    "# Import the numpy module\n",
    "import numpy as np"
   ]
  },
  {
   "cell_type": "code",
   "execution_count": 6,
   "id": "598e4173",
   "metadata": {},
   "outputs": [
    {
     "data": {
      "text/plain": [
       "-28.66750329317481"
      ]
     },
     "execution_count": 6,
     "metadata": {},
     "output_type": "execute_result"
    }
   ],
   "source": [
    "np.random.uniform(-90,90)"
   ]
  },
  {
   "cell_type": "code",
   "execution_count": 7,
   "id": "9bea7582",
   "metadata": {},
   "outputs": [
    {
     "data": {
      "text/plain": [
       "array([-86.00497577,  41.95461333, -84.71406367,  44.89201421,\n",
       "       -23.55875536, -33.06685915, -21.78173105,  54.04168508,\n",
       "         3.03026138,  31.91191532,  60.68260195, -55.86385221,\n",
       "       -20.71540997,  -1.47870829,  66.18373798,  67.61019083,\n",
       "        23.17319027,  31.63535417, -41.36086752,  62.5876288 ,\n",
       "         7.22011247,  27.54183438, -60.9284297 ,  39.47984681,\n",
       "        42.95249414,   2.21785915,   9.26148686, -56.71492003,\n",
       "        -5.71710612,  62.35858045,  89.0593048 ,  -5.92836307,\n",
       "        75.6885243 , -47.1776399 , -27.00879103, -21.04437281,\n",
       "         0.54056902, -81.55528266,  10.08080623,  58.11723266,\n",
       "        66.8881647 ,  72.59482093,  43.25108513,  38.10301373,\n",
       "        54.58630658,  58.68365286,  28.77083615,  19.22499835,\n",
       "       -62.945528  ,  83.74525669])"
      ]
     },
     "execution_count": 7,
     "metadata": {},
     "output_type": "execute_result"
    }
   ],
   "source": [
    "np.random.uniform(-90,90, size=50)"
   ]
  },
  {
   "cell_type": "code",
   "execution_count": 8,
   "id": "8fb47233",
   "metadata": {},
   "outputs": [],
   "source": [
    "# Import timeit.\n",
    "import timeit"
   ]
  },
  {
   "cell_type": "code",
   "execution_count": 9,
   "id": "1afa8623",
   "metadata": {},
   "outputs": [
    {
     "name": "stdout",
     "output_type": "stream",
     "text": [
      "46.4 µs ± 295 ns per loop (mean ± std. dev. of 7 runs, 10,000 loops each)\n"
     ]
    }
   ],
   "source": [
    "%timeit np.random.uniform(-90,90,size=1500)"
   ]
  },
  {
   "cell_type": "code",
   "execution_count": 10,
   "id": "50e01483",
   "metadata": {},
   "outputs": [
    {
     "name": "stdout",
     "output_type": "stream",
     "text": [
      "2.23 ms ± 33.7 µs per loop (mean ± std. dev. of 7 runs, 100 loops each)\n"
     ]
    }
   ],
   "source": [
    "def latitudes(size):\n",
    "    latitudes = []\n",
    "    x = 0\n",
    "    while x < (size):\n",
    "        random_lat = random.randint(-90, 90) + random.random()\n",
    "        latitudes.append(random_lat)\n",
    "        x += 1\n",
    "    return latitudes\n",
    "# Call the function with 1500.\n",
    "%timeit latitudes(1500)"
   ]
  },
  {
   "cell_type": "code",
   "execution_count": 11,
   "id": "2fe6cc06",
   "metadata": {},
   "outputs": [
    {
     "name": "stdout",
     "output_type": "stream",
     "text": [
      "46.4 µs ± 347 ns per loop (mean ± std. dev. of 7 runs, 10,000 loops each)\n"
     ]
    }
   ],
   "source": [
    "%timeit np.random.uniform(-180,180,size=1500)"
   ]
  },
  {
   "cell_type": "code",
   "execution_count": null,
   "id": "fee2ad88",
   "metadata": {},
   "outputs": [],
   "source": []
  }
 ],
 "metadata": {
  "kernelspec": {
   "display_name": "Python 3 (ipykernel)",
   "language": "python",
   "name": "python3"
  },
  "language_info": {
   "codemirror_mode": {
    "name": "ipython",
    "version": 3
   },
   "file_extension": ".py",
   "mimetype": "text/x-python",
   "name": "python",
   "nbconvert_exporter": "python",
   "pygments_lexer": "ipython3",
   "version": "3.9.13"
  }
 },
 "nbformat": 4,
 "nbformat_minor": 5
}
